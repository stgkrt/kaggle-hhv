{
 "cells": [
  {
   "cell_type": "code",
   "execution_count": 20,
   "metadata": {},
   "outputs": [],
   "source": [
    "import os\n",
    "\n",
    "import cv2\n",
    "import numpy as np\n",
    "import pandas as pd\n",
    "\n",
    "import torch\n",
    "from torch.utils.data import DataLoader, Dataset\n",
    "\n",
    "import matplotlib.pyplot as plt\n",
    "\n",
    "\n",
    "import sys\n",
    "sys.path.append(\"/kaggle/src/\")\n",
    "\n",
    "from model.model_module import ModelModule\n",
    "from conf import ExpConfig\n",
    "from score.rle_convert import rle_encode, rle_decode\n",
    "from score.compute_score import compute_surface_dice_score, add_size_columns"
   ]
  },
  {
   "cell_type": "code",
   "execution_count": 21,
   "metadata": {},
   "outputs": [
    {
     "data": {
      "text/plain": [
       "<All keys matched successfully>"
      ]
     },
     "execution_count": 21,
     "metadata": {},
     "output_type": "execute_result"
    }
   ],
   "source": [
    "config = ExpConfig()\n",
    "model = ModelModule(config)\n",
    "# modelの読み込み\n",
    "model.load_state_dict(torch.load(\"/kaggle/working/exp001_making3/last.pth\"))"
   ]
  },
  {
   "cell_type": "code",
   "execution_count": 22,
   "metadata": {},
   "outputs": [],
   "source": [
    "data_name = \"kidney_1_dense\"\n",
    "slice_id = \"0500\"\n",
    "data_id = data_name + \"_\" + slice_id\n",
    "\n",
    "image = cv2.imread(f\"/kaggle/input/blood-vessel-segmentation/train/{data_name}/images/{slice_id}.tif\", cv2.IMREAD_GRAYSCALE)\n",
    "pred, pred_counts = model.overlap_predict(image)"
   ]
  },
  {
   "cell_type": "code",
   "execution_count": 23,
   "metadata": {},
   "outputs": [
    {
     "name": "stdout",
     "output_type": "stream",
     "text": [
      "107335 1 119938 2 120850 2 121763 1 142766 1 143678 1 148384 3 149296 2 150208 1 161124 2 162036 2 162947 4 163859 3 164772 2 170081 4 170992 5 171904 5 172817 3 172837 1 173747 4 174658 5 175570 5 176481 6 177394 5 178307 2 195625 3 196536 4 197392 1 197444 8 198303 3 198356 8 199215 3 199253 3 199268 8 200126 4 200166 2 200179 9 201038 3 201079 1 201091 8 201950 3 202003 7 202863 1 202915 7 203194 1 203828 5 204106 1 204740 5 205652 4 206564 3 228416 3 229326 7 230236 9 230447 2 231148 10 231358 3 231403 1 232059 11 232270 4 232314 3 232970 12 233182 4 233226 3 233882 9 234096 1 234793 9 235013 1 235704 10 235924 3 236601 2 236615 10 236836 4 237513 2 237527 10 237749 2 238425 3 238439 10 239337 3 239349 11 240249 3 240259 12 240275 1 241161 4 241170 13 241186 3 242074 3 242082 13 242098 3 242987 2 242994 13 243010 4 243907 12 243921 5 244820 11 244833 5 245733 10 245745 5 246646 9 246657 5 247558 8 247569 5 248470 8 248481 5 249382 8 249393 5 250294 8 250306 3 251206 8 251218 3 252117 9 252130 2 253028 9 253041 1 253053 4 253939 10 253953 1 253964 6 254831 3 254851 10 254865 1 254875 7 255742 5 255763 10 255786 9 256654 7 256675 9 256698 9 257566 7 257586 10 257610 10 258479 8 258498 10 258521 11 259391 9 259410 9 259432 12 260303 10 260322 8 260343 14 261216 10 261234 7 261254 15 262129 11 262146 5 262166 15 263044 8 263058 4 263075 17 263957 8 263966 1 263971 2 263987 17 264870 6 264899 17 265783 5 265811 17 266723 17 267635 17 268547 17 269459 17 270370 18 271282 18 272101 2 272194 18 273014 1 273018 1 273106 18 273930 2 274017 18 274843 2 274929 17 275756 1 275841 17 276668 2 276753 16 277665 15 278578 14 279490 13 280402 12 281314 12 282226 11 283139 8 284051 6 284965 2 307702 3 308614 3 309523 2 309526 4 310435 2 310439 3 311348 2 311351 3 312261 1 314003 1 314916 1 322586 1 323497 3 324125 1 324409 3 325035 4 325321 3 325947 4 326234 1 326860 3 336270 1 337181 3 338093 3 339006 2 339529 3 340441 3 341353 3 342265 3 342619 2 343178 2 343532 1 347716 1 348627 3 349540 2 349663 3 350453 1 350574 5 351486 5 352398 6 353310 6 354222 6 355135 5 356049 1 356823 1 357121 5 357735 2 358032 7 358648 1 358943 9 359853 11 360512 1 360764 12 361423 2 361676 9 361686 1 362335 2 362588 8 363500 7 364412 6 365325 4 366238 1 370622 2 370786 2 371534 3 371698 2 372446 3 372454 4 373365 6 374277 6 375189 6 376101 6 377012 7 377924 6 378836 6 379748 5 380661 3 386146 4 387056 8 387967 9 388113 3 388878 10 389025 4 389790 11 389938 3 390702 11 391614 11 392526 12 393438 12 394350 13 395263 12 396175 13 397087 13 397223 5 397999 14 398134 7 398912 13 399046 8 399824 14 399958 8 400736 14 400870 9 401648 14 401781 10 402561 13 402693 11 403473 13 403605 11 403649 2 404231 2 404386 12 404517 11 404561 2 405143 3 405299 11 405429 11 406056 1 406127 5 406211 11 406340 12 407033 13 407124 9 407252 12 407945 14 408037 7 408164 12 408857 15 408950 6 409076 11 409781 3 409789 4 409863 4 409988 11 410700 6 410900 10 411612 6 411812 9 411978 2 411986 2 412524 6 412724 9 412889 4 413436 6 413637 7 413782 2 413803 1 414348 5 414550 5 414694 3 415261 4 415463 2 415606 3 416174 3 416518 2 431151 2 432063 2 432976 2 434670 2 435581 4 436493 4 437404 5 438316 5 439227 5 440140 4 441053 1 444647 1 445559 2 449265 2 450175 5 451086 6 451999 5 452912 3 480119 3 481029 5 481938 8 482846 9 483566 2 483756 11 484478 2 484667 10 485390 2 485578 10 486302 2 486489 11 487213 3 487298 3 487400 11 488125 3 488208 6 488311 12 489038 2 489119 8 489213 3 489223 11 489950 2 490030 10 490125 3 490134 12 490862 2 490942 10 491037 3 491046 12 491774 3 491853 12 491949 3 491957 13 492687 2 492695 1 492765 12 492861 3 492868 14 493125 2 493678 11 493774 1 493780 13 494037 3 494591 10 494692 13 494950 1 495504 9 495518 5 495604 13 496419 5 496429 6 496516 12 497340 7 497427 13 498251 7 498339 12 499163 5 499251 12 500075 3 500162 12 501074 12 501986 11 502898 10 503810 10 504722 9 505634 9 505762 5 506516 1 506546 8 506673 7 507428 2 507458 8 507584 9 507747 1 508340 2 508371 6 508495 11 508659 2 509283 6 509407 11 510196 4 510318 12 511109 1 511230 13 512142 13 513054 13 513966 12 514879 11 515791 10 516376 2 516704 8 517289 1 517617 6 518530 4 519437 2 520349 3 520934 3 521262 3 521846 3 522174 1 522758 3 523670 2 524582 2 525493 3 525590 2 526405 3 526497 1 526502 3 526860 2 527318 2 527409 2 527414 2 527772 2 532881 1 533792 3 534704 3 535608 3 535616 3 536519 5 536528 2 537379 8 537421 3 537430 7 537440 2 538261 1 538290 9 538332 6 538341 9 538352 2 539201 10 539244 20 540117 6 540157 19 541030 5 541069 17 541942 4 541982 15 542856 1 542895 13 543808 12 544722 9 545635 8 546548 7 547460 6 548372 6 549281 9 550193 8 551106 7 552018 5 552931 3 554696 3 555597 1 555608 3 556496 1 556509 2 556519 4 557407 3 557421 2 557431 3 557811 2 558319 4 558344 1 558722 4 559232 3 559360 1 559635 3 560145 3 560547 3 561058 1 561460 2 562934 3 563845 6 564757 6 565669 7 566581 7 567494 6 567816 3 568407 4 568727 5 569639 6 570551 6 571463 6 572375 6 573288 4 574200 3 576019 1 576931 3 577843 6 578442 1 578756 2 578760 1 579298 3 579354 1 580211 2 580267 1 581179 1 582091 2 583004 1 591170 1 592081 2 592993 2 598004 1 603044 2 603956 3 604867 4 605779 5 606691 6 607603 6 608525 1 609783 1 610692 6 611603 8 612515 8 613426 9 614339 8 614838 2 615251 8 615748 5 616164 7 616660 5 617078 4 617572 5 619846 3 620758 3 621671 2 628556 1 629467 3 630378 4 631289 4 632201 3 633112 3 634024 1 644167 5 645077 10 645987 13 646899 15 647810 18 648722 19 649633 21 650545 22 651457 23 652369 24 653281 25 654178 2 654193 26 655089 3 655104 27 656001 3 656016 28 656914 1 656928 28 657840 29 658751 30 659653 4 659663 30 660564 5 660575 31 661476 5 661486 32 661735 3 662389 1 662398 32 662646 4 663310 32 663557 5 664213 1 664215 1 664222 32 664464 10 665123 3 665127 2 665134 31 665377 8 666035 3 666046 29 666289 7 666947 3 666958 28 667200 7 667860 2 667870 16 667887 10 668112 5 668771 3 668783 12 668805 1 669023 4 669683 3 669696 4 669935 3 670847 3 671537 3 671759 3 672451 1 673301 2 674210 5 675121 6 676031 8 676079 2 676943 8 676991 2 677855 7 677866 2 678768 5 678778 2 696055 2 696933 1 696968 1 734653 1 735564 3 736476 3 737388 3 738300 3 739213 2 747429 2 748342 2 748930 2 749255 1 749842 2 751018 3 751022 4 751928 5 751935 3 752777 2 752839 4 752848 1 752906 1 753688 3 753750 3 753818 1 754601 1 754662 2 755574 1 758968 2 759879 4 760791 4 761703 4 762615 4 762809 2 763528 3 763720 4 764440 3 764631 6 765543 6 766455 6 767367 7 768279 7 769191 7 770103 7 771015 7 771927 6 772839 6 773751 6 774663 5 775575 4 776487 3 793849 1 794761 2 796604 1 797457 5 797513 5 798369 7 798424 6 799280 8 799335 5 800192 9 800248 2 801104 9 802017 8 802929 8 803841 8 804755 6 805669 2 812766 3 813674 9 814582 14 815493 15 816405 15 817317 16 818230 14 819143 13 820062 5 841220 2 842131 3 843042 4 843954 4 844866 4 845779 2 849250 2 850161 4 851073 4 851985 5 852897 5 853809 5 854721 5 854940 2 855633 5 855852 4 856546 4 856764 5 857458 4 857678 4 858370 4 858591 4 859282 5 859504 4 860194 5 860417 4 861105 6 861271 2 861331 2 862017 6 862182 4 862244 1 862928 7 863092 6 863840 7 864002 9 864752 7 864912 11 865664 7 865823 13 866577 6 866735 13 867490 5 867646 14 868402 5 868558 14 869314 5 869469 15 870227 4 870381 14 871139 4 871292 14 872051 4 872203 15 872963 4 873115 14 873875 4 874026 14 874787 4 874938 13 875699 4 875849 14 876610 5 876761 13 877522 4 877673 12 878434 4 878585 12 879346 4 879496 12 880258 4 880408 11 881170 5 881320 10 882083 4 882232 10 882995 4 883144 9 883907 4 884056 9 884820 3 884968 9 885733 1 885879 9 886791 9 887703 9 888615 8 889527 8 890439 7 891351 7 892263 6 893175 6 894087 5 894998 4 895909 5 896820 6 897732 6 898644 7 899556 7 900468 7 901380 7 902292 7 903205 5 936943 2 937856 1 938768 1 952375 2 953286 5 954162 3 954197 7 955074 4 955109 7 955986 4 956005 2 956021 7 956898 4 956915 5 956933 7 957811 3 957826 7 957845 6 958736 9 958758 5 959647 10 960528 2 960559 10 961439 3 961470 10 962351 3 962382 8 963262 4 963293 6 964173 3 964204 5 965085 3 965115 5 965997 3 966027 4 966909 2 966939 3 967850 3 968762 3 969674 3 970586 2 971498 1 972409 2 980610 2 981476 1 981521 3 982433 3 983345 2 983447 2 984359 2 985271 2 986184 1 993456 1 1026019 2 1026931 4 1027845 2\n"
     ]
    }
   ],
   "source": [
    "rle = rle_encode((pred > 0.5).astype(np.uint8))\n",
    "print(rle)"
   ]
  },
  {
   "cell_type": "code",
   "execution_count": 24,
   "metadata": {},
   "outputs": [
    {
     "data": {
      "text/plain": [
       "<matplotlib.image.AxesImage at 0x7f8871d6e440>"
      ]
     },
     "execution_count": 24,
     "metadata": {},
     "output_type": "execute_result"
    },
    {
     "data": {
      "image/png": "[encoded data removed]",
      "text/plain": [
       "<Figure size 640x480 with 1 Axes>"
      ]
     },
     "metadata": {},
     "output_type": "display_data"
    }
   ],
   "source": [
    "decoded_pred = rle_decode(rle, (pred.shape[0], pred.shape[1]))\n",
    "plt.imshow(decoded_pred)"
   ]
  },
  {
   "cell_type": "code",
   "execution_count": 25,
   "metadata": {},
   "outputs": [
    {
     "name": "stdout",
     "output_type": "stream",
     "text": [
      "kidney_1_dense_0500\n",
      "kidney_1_dense_0501\n",
      "kidney_1_dense_0502\n",
      "kidney_1_dense_0503\n",
      "kidney_1_dense_0504\n",
      "kidney_1_dense_0505\n",
      "kidney_1_dense_0506\n",
      "kidney_1_dense_0507\n",
      "kidney_1_dense_0508\n",
      "kidney_1_dense_0509\n",
      "kidney_1_dense_0510\n",
      "kidney_1_dense_0511\n",
      "kidney_1_dense_0512\n",
      "kidney_1_dense_0513\n",
      "kidney_1_dense_0514\n",
      "kidney_1_dense_0515\n",
      "kidney_1_dense_0516\n",
      "kidney_1_dense_0517\n",
      "kidney_1_dense_0518\n",
      "kidney_1_dense_0519\n",
      "kidney_1_dense_0520\n",
      "kidney_1_dense_0521\n",
      "kidney_1_dense_0522\n",
      "kidney_1_dense_0523\n",
      "kidney_1_dense_0524\n",
      "kidney_1_dense_0525\n",
      "kidney_1_dense_0526\n",
      "kidney_1_dense_0527\n",
      "kidney_1_dense_0528\n",
      "kidney_1_dense_0529\n",
      "kidney_1_dense_0530\n",
      "kidney_1_dense_0531\n",
      "kidney_1_dense_0532\n",
      "kidney_1_dense_0533\n",
      "kidney_1_dense_0534\n",
      "kidney_1_dense_0535\n",
      "kidney_1_dense_0536\n",
      "kidney_1_dense_0537\n",
      "kidney_1_dense_0538\n",
      "kidney_1_dense_0539\n",
      "kidney_1_dense_0540\n",
      "kidney_1_dense_0541\n",
      "kidney_1_dense_0542\n",
      "kidney_1_dense_0543\n",
      "kidney_1_dense_0544\n",
      "kidney_1_dense_0545\n",
      "kidney_1_dense_0546\n",
      "kidney_1_dense_0547\n",
      "kidney_1_dense_0548\n",
      "kidney_1_dense_0549\n",
      "kidney_1_dense_0550\n",
      "kidney_1_dense_0551\n",
      "kidney_1_dense_0552\n",
      "kidney_1_dense_0553\n",
      "kidney_1_dense_0554\n",
      "kidney_1_dense_0555\n",
      "kidney_1_dense_0556\n",
      "kidney_1_dense_0557\n",
      "kidney_1_dense_0558\n",
      "kidney_1_dense_0559\n",
      "kidney_1_dense_0560\n",
      "kidney_1_dense_0561\n",
      "kidney_1_dense_0562\n",
      "kidney_1_dense_0563\n",
      "kidney_1_dense_0564\n",
      "kidney_1_dense_0565\n",
      "kidney_1_dense_0566\n",
      "kidney_1_dense_0567\n",
      "kidney_1_dense_0568\n",
      "kidney_1_dense_0569\n",
      "kidney_1_dense_0570\n",
      "kidney_1_dense_0571\n",
      "kidney_1_dense_0572\n",
      "kidney_1_dense_0573\n",
      "kidney_1_dense_0574\n",
      "kidney_1_dense_0575\n",
      "kidney_1_dense_0576\n",
      "kidney_1_dense_0577\n",
      "kidney_1_dense_0578\n",
      "kidney_1_dense_0579\n",
      "kidney_1_dense_0580\n",
      "kidney_1_dense_0581\n",
      "kidney_1_dense_0582\n",
      "kidney_1_dense_0583\n",
      "kidney_1_dense_0584\n",
      "kidney_1_dense_0585\n",
      "kidney_1_dense_0586\n",
      "kidney_1_dense_0587\n",
      "kidney_1_dense_0588\n",
      "kidney_1_dense_0589\n",
      "kidney_1_dense_0590\n",
      "kidney_1_dense_0591\n",
      "kidney_1_dense_0592\n",
      "kidney_1_dense_0593\n",
      "kidney_1_dense_0594\n",
      "kidney_1_dense_0595\n",
      "kidney_1_dense_0596\n",
      "kidney_1_dense_0597\n",
      "kidney_1_dense_0598\n",
      "kidney_1_dense_0599\n"
     ]
    }
   ],
   "source": [
    "data_name = \"kidney_1_dense\"\n",
    "data_id_list = []\n",
    "rle_list = []\n",
    "for slice_id in range(500, 600):\n",
    "    data_id = f\"{data_name}_{slice_id:04d}\"\n",
    "    print(data_id)\n",
    "    image = cv2.imread(f\"/kaggle/input/blood-vessel-segmentation/train/{data_name}/images/{slice_id:04d}.tif\", cv2.IMREAD_GRAYSCALE)\n",
    "    pred, pred_counts = model.overlap_predict(image)\n",
    "    rle = rle_encode((pred > 0.5).astype(np.uint8))\n",
    "    rle_list.append(rle)\n",
    "    data_id_list.append(data_id)"
   ]
  },
  {
   "cell_type": "code",
   "execution_count": 49,
   "metadata": {},
   "outputs": [
    {
     "data": {
      "text/html": [
       "<div>\n",
       "<style scoped>\n",
       "    .dataframe tbody tr th:only-of-type {\n",
       "        vertical-align: middle;\n",
       "    }\n",
       "\n",
       "    .dataframe tbody tr th {\n",
       "        vertical-align: top;\n",
       "    }\n",
       "\n",
       "    .dataframe thead th {\n",
       "        text-align: right;\n",
       "    }\n",
       "</style>\n",
       "<table border=\"1\" class=\"dataframe\">\n",
       "  <thead>\n",
       "    <tr style=\"text-align: right;\">\n",
       "      <th></th>\n",
       "      <th>id</th>\n",
       "      <th>rle</th>\n",
       "    </tr>\n",
       "  </thead>\n",
       "  <tbody>\n",
       "    <tr>\n",
       "      <th>0</th>\n",
       "      <td>kidney_1_dense_0500</td>\n",
       "      <td>119938 2 120850 2 142766 1 143678 1 147473 2 1...</td>\n",
       "    </tr>\n",
       "    <tr>\n",
       "      <th>1</th>\n",
       "      <td>kidney_1_dense_0501</td>\n",
       "      <td>72716 1 73628 2 74541 2 120850 1 121762 2 1226...</td>\n",
       "    </tr>\n",
       "    <tr>\n",
       "      <th>2</th>\n",
       "      <td>kidney_1_dense_0502</td>\n",
       "      <td>92597 1 93508 2 94421 1 122674 1 123585 3 1244...</td>\n",
       "    </tr>\n",
       "    <tr>\n",
       "      <th>3</th>\n",
       "      <td>kidney_1_dense_0503</td>\n",
       "      <td>124498 1 125409 3 126321 3 127233 3 128145 3 1...</td>\n",
       "    </tr>\n",
       "    <tr>\n",
       "      <th>4</th>\n",
       "      <td>kidney_1_dense_0504</td>\n",
       "      <td>85302 1 86214 2 123590 2 124502 2 125413 3 126...</td>\n",
       "    </tr>\n",
       "    <tr>\n",
       "      <th>...</th>\n",
       "      <td>...</td>\n",
       "      <td>...</td>\n",
       "    </tr>\n",
       "    <tr>\n",
       "      <th>95</th>\n",
       "      <td>kidney_1_dense_0595</td>\n",
       "      <td>147254 1 188307 1 189219 2 190131 2 191043 3 1...</td>\n",
       "    </tr>\n",
       "    <tr>\n",
       "      <th>96</th>\n",
       "      <td>kidney_1_dense_0596</td>\n",
       "      <td>191043 3 191956 2 192868 2 193780 2 194692 3 1...</td>\n",
       "    </tr>\n",
       "    <tr>\n",
       "      <th>97</th>\n",
       "      <td>kidney_1_dense_0597</td>\n",
       "      <td>134719 1 180096 1 181008 1 192868 2 193780 2 1...</td>\n",
       "    </tr>\n",
       "    <tr>\n",
       "      <th>98</th>\n",
       "      <td>kidney_1_dense_0598</td>\n",
       "      <td>91806 2 92718 3 93631 2 162763 1 163675 2 1700...</td>\n",
       "    </tr>\n",
       "    <tr>\n",
       "      <th>99</th>\n",
       "      <td>kidney_1_dense_0599</td>\n",
       "      <td>54452 1 89071 1 89982 3 90894 2 91806 2 92717 ...</td>\n",
       "    </tr>\n",
       "  </tbody>\n",
       "</table>\n",
       "<p>100 rows × 2 columns</p>\n",
       "</div>"
      ],
      "text/plain": [
       "                     id                                                rle\n",
       "0   kidney_1_dense_0500  119938 2 120850 2 142766 1 143678 1 147473 2 1...\n",
       "1   kidney_1_dense_0501  72716 1 73628 2 74541 2 120850 1 121762 2 1226...\n",
       "2   kidney_1_dense_0502  92597 1 93508 2 94421 1 122674 1 123585 3 1244...\n",
       "3   kidney_1_dense_0503  124498 1 125409 3 126321 3 127233 3 128145 3 1...\n",
       "4   kidney_1_dense_0504  85302 1 86214 2 123590 2 124502 2 125413 3 126...\n",
       "..                  ...                                                ...\n",
       "95  kidney_1_dense_0595  147254 1 188307 1 189219 2 190131 2 191043 3 1...\n",
       "96  kidney_1_dense_0596  191043 3 191956 2 192868 2 193780 2 194692 3 1...\n",
       "97  kidney_1_dense_0597  134719 1 180096 1 181008 1 192868 2 193780 2 1...\n",
       "98  kidney_1_dense_0598  91806 2 92718 3 93631 2 162763 1 163675 2 1700...\n",
       "99  kidney_1_dense_0599  54452 1 89071 1 89982 3 90894 2 91806 2 92717 ...\n",
       "\n",
       "[100 rows x 2 columns]"
      ]
     },
     "execution_count": 49,
     "metadata": {},
     "output_type": "execute_result"
    }
   ],
   "source": [
    "submit = pd.DataFrame({\n",
    "    \"id\": data_id_list,\n",
    "    \"rle\": rle_list\n",
    "})\n",
    "\n",
    "# submit = pd.read_csv(\"/kaggle/input/submission_sample.csv\")\n",
    "submit"
   ]
  },
  {
   "cell_type": "code",
   "execution_count": 53,
   "metadata": {},
   "outputs": [
    {
     "data": {
      "text/html": [
       "<div>\n",
       "<style scoped>\n",
       "    .dataframe tbody tr th:only-of-type {\n",
       "        vertical-align: middle;\n",
       "    }\n",
       "\n",
       "    .dataframe tbody tr th {\n",
       "        vertical-align: top;\n",
       "    }\n",
       "\n",
       "    .dataframe thead th {\n",
       "        text-align: right;\n",
       "    }\n",
       "</style>\n",
       "<table border=\"1\" class=\"dataframe\">\n",
       "  <thead>\n",
       "    <tr style=\"text-align: right;\">\n",
       "      <th></th>\n",
       "      <th>id</th>\n",
       "      <th>rle</th>\n",
       "      <th>width</th>\n",
       "      <th>height</th>\n",
       "      <th>image_id</th>\n",
       "      <th>slice_id</th>\n",
       "    </tr>\n",
       "  </thead>\n",
       "  <tbody>\n",
       "    <tr>\n",
       "      <th>0</th>\n",
       "      <td>kidney_1_dense_0500</td>\n",
       "      <td>80795 1 81707 1 119026 2 119938 2 120850 2 121...</td>\n",
       "      <td>912</td>\n",
       "      <td>1303</td>\n",
       "      <td>kidney_1_dense</td>\n",
       "      <td>0500</td>\n",
       "    </tr>\n",
       "    <tr>\n",
       "      <th>1</th>\n",
       "      <td>kidney_1_dense_0501</td>\n",
       "      <td>79883 1 80795 1 120850 1 121762 2 122674 2 123...</td>\n",
       "      <td>912</td>\n",
       "      <td>1303</td>\n",
       "      <td>kidney_1_dense</td>\n",
       "      <td>0501</td>\n",
       "    </tr>\n",
       "    <tr>\n",
       "      <th>2</th>\n",
       "      <td>kidney_1_dense_0502</td>\n",
       "      <td>79883 1 80795 1 90773 1 91685 1 92597 1 93508 ...</td>\n",
       "      <td>912</td>\n",
       "      <td>1303</td>\n",
       "      <td>kidney_1_dense</td>\n",
       "      <td>0502</td>\n",
       "    </tr>\n",
       "    <tr>\n",
       "      <th>3</th>\n",
       "      <td>kidney_1_dense_0503</td>\n",
       "      <td>78970 2 79882 2 80795 1 88949 1 89861 1 90773 ...</td>\n",
       "      <td>912</td>\n",
       "      <td>1303</td>\n",
       "      <td>kidney_1_dense</td>\n",
       "      <td>0503</td>\n",
       "    </tr>\n",
       "    <tr>\n",
       "      <th>4</th>\n",
       "      <td>kidney_1_dense_0504</td>\n",
       "      <td>72581 3 73492 2 73495 2 74408 2 78059 1 78970 ...</td>\n",
       "      <td>912</td>\n",
       "      <td>1303</td>\n",
       "      <td>kidney_1_dense</td>\n",
       "      <td>0504</td>\n",
       "    </tr>\n",
       "    <tr>\n",
       "      <th>...</th>\n",
       "      <td>...</td>\n",
       "      <td>...</td>\n",
       "      <td>...</td>\n",
       "      <td>...</td>\n",
       "      <td>...</td>\n",
       "      <td>...</td>\n",
       "    </tr>\n",
       "    <tr>\n",
       "      <th>95</th>\n",
       "      <td>kidney_1_dense_0595</td>\n",
       "      <td>171944 1 172856 1 181921 1 182833 1 183745 1 1...</td>\n",
       "      <td>912</td>\n",
       "      <td>1303</td>\n",
       "      <td>kidney_1_dense</td>\n",
       "      <td>0595</td>\n",
       "    </tr>\n",
       "    <tr>\n",
       "      <th>96</th>\n",
       "      <td>kidney_1_dense_0596</td>\n",
       "      <td>89985 1 90897 1 171944 1 172856 1 180096 1 181...</td>\n",
       "      <td>912</td>\n",
       "      <td>1303</td>\n",
       "      <td>kidney_1_dense</td>\n",
       "      <td>0596</td>\n",
       "    </tr>\n",
       "    <tr>\n",
       "      <th>97</th>\n",
       "      <td>kidney_1_dense_0597</td>\n",
       "      <td>90897 1 91808 2 172797 1 172856 1 173709 1 174...</td>\n",
       "      <td>912</td>\n",
       "      <td>1303</td>\n",
       "      <td>kidney_1_dense</td>\n",
       "      <td>0597</td>\n",
       "    </tr>\n",
       "    <tr>\n",
       "      <th>98</th>\n",
       "      <td>kidney_1_dense_0598</td>\n",
       "      <td>91807 2 92719 2 93631 1 160939 1 161851 1 1627...</td>\n",
       "      <td>912</td>\n",
       "      <td>1303</td>\n",
       "      <td>kidney_1_dense</td>\n",
       "      <td>0598</td>\n",
       "    </tr>\n",
       "    <tr>\n",
       "      <th>99</th>\n",
       "      <td>kidney_1_dense_0599</td>\n",
       "      <td>89071 1 89983 1 90894 2 91806 2 92718 2 93629 ...</td>\n",
       "      <td>912</td>\n",
       "      <td>1303</td>\n",
       "      <td>kidney_1_dense</td>\n",
       "      <td>0599</td>\n",
       "    </tr>\n",
       "  </tbody>\n",
       "</table>\n",
       "<p>100 rows × 6 columns</p>\n",
       "</div>"
      ],
      "text/plain": [
       "                     id                                                rle  \\\n",
       "0   kidney_1_dense_0500  80795 1 81707 1 119026 2 119938 2 120850 2 121...   \n",
       "1   kidney_1_dense_0501  79883 1 80795 1 120850 1 121762 2 122674 2 123...   \n",
       "2   kidney_1_dense_0502  79883 1 80795 1 90773 1 91685 1 92597 1 93508 ...   \n",
       "3   kidney_1_dense_0503  78970 2 79882 2 80795 1 88949 1 89861 1 90773 ...   \n",
       "4   kidney_1_dense_0504  72581 3 73492 2 73495 2 74408 2 78059 1 78970 ...   \n",
       "..                  ...                                                ...   \n",
       "95  kidney_1_dense_0595  171944 1 172856 1 181921 1 182833 1 183745 1 1...   \n",
       "96  kidney_1_dense_0596  89985 1 90897 1 171944 1 172856 1 180096 1 181...   \n",
       "97  kidney_1_dense_0597  90897 1 91808 2 172797 1 172856 1 173709 1 174...   \n",
       "98  kidney_1_dense_0598  91807 2 92719 2 93631 1 160939 1 161851 1 1627...   \n",
       "99  kidney_1_dense_0599  89071 1 89983 1 90894 2 91806 2 92718 2 93629 ...   \n",
       "\n",
       "    width  height        image_id slice_id  \n",
       "0     912    1303  kidney_1_dense     0500  \n",
       "1     912    1303  kidney_1_dense     0501  \n",
       "2     912    1303  kidney_1_dense     0502  \n",
       "3     912    1303  kidney_1_dense     0503  \n",
       "4     912    1303  kidney_1_dense     0504  \n",
       "..    ...     ...             ...      ...  \n",
       "95    912    1303  kidney_1_dense     0595  \n",
       "96    912    1303  kidney_1_dense     0596  \n",
       "97    912    1303  kidney_1_dense     0597  \n",
       "98    912    1303  kidney_1_dense     0598  \n",
       "99    912    1303  kidney_1_dense     0599  \n",
       "\n",
       "[100 rows x 6 columns]"
      ]
     },
     "execution_count": 53,
     "metadata": {},
     "output_type": "execute_result"
    }
   ],
   "source": [
    "label = pd.read_csv(\"/kaggle/input/blood-vessel-segmentation/train_rles.csv\")\n",
    "label = label[label[\"id\"].str.startswith(data_name)]\n",
    "label = label[label[\"id\"].isin(data_id_list)].reset_index(drop=True)\n",
    "add_size_columns(label)\n",
    "label"
   ]
  },
  {
   "cell_type": "code",
   "execution_count": 54,
   "metadata": {},
   "outputs": [
    {
     "data": {
      "text/plain": [
       "0     kidney_1_dense_0500\n",
       "1     kidney_1_dense_0501\n",
       "2     kidney_1_dense_0502\n",
       "3     kidney_1_dense_0503\n",
       "4     kidney_1_dense_0504\n",
       "             ...         \n",
       "95    kidney_1_dense_0595\n",
       "96    kidney_1_dense_0596\n",
       "97    kidney_1_dense_0597\n",
       "98    kidney_1_dense_0598\n",
       "99    kidney_1_dense_0599\n",
       "Name: id, Length: 100, dtype: object"
      ]
     },
     "execution_count": 54,
     "metadata": {},
     "output_type": "execute_result"
    }
   ],
   "source": [
    "submit[\"id\"]"
   ]
  },
  {
   "cell_type": "code",
   "execution_count": 55,
   "metadata": {},
   "outputs": [
    {
     "data": {
      "text/plain": [
       "0     kidney_1_dense_0500\n",
       "1     kidney_1_dense_0501\n",
       "2     kidney_1_dense_0502\n",
       "3     kidney_1_dense_0503\n",
       "4     kidney_1_dense_0504\n",
       "             ...         \n",
       "95    kidney_1_dense_0595\n",
       "96    kidney_1_dense_0596\n",
       "97    kidney_1_dense_0597\n",
       "98    kidney_1_dense_0598\n",
       "99    kidney_1_dense_0599\n",
       "Name: id, Length: 100, dtype: object"
      ]
     },
     "execution_count": 55,
     "metadata": {},
     "output_type": "execute_result"
    }
   ],
   "source": [
    "label[\"id\"]"
   ]
  },
  {
   "cell_type": "code",
   "execution_count": 56,
   "metadata": {},
   "outputs": [
    {
     "data": {
      "text/plain": [
       "0     True\n",
       "1     True\n",
       "2     True\n",
       "3     True\n",
       "4     True\n",
       "      ... \n",
       "95    True\n",
       "96    True\n",
       "97    True\n",
       "98    True\n",
       "99    True\n",
       "Name: id, Length: 100, dtype: bool"
      ]
     },
     "execution_count": 56,
     "metadata": {},
     "output_type": "execute_result"
    }
   ],
   "source": [
    "submit[\"id\"]==label[\"id\"]"
   ]
  },
  {
   "cell_type": "code",
   "execution_count": 57,
   "metadata": {},
   "outputs": [
    {
     "data": {
      "text/plain": [
       "True"
      ]
     },
     "execution_count": 57,
     "metadata": {},
     "output_type": "execute_result"
    }
   ],
   "source": [
    "(submit[\"id\"] == label[\"id\"]).all()"
   ]
  },
  {
   "cell_type": "code",
   "execution_count": 58,
   "metadata": {},
   "outputs": [
    {
     "name": "stdout",
     "output_type": "stream",
     "text": [
      "CPU times: user 244 ms, sys: 65.6 ms, total: 309 ms\n",
      "Wall time: 336 ms\n"
     ]
    },
    {
     "data": {
      "text/plain": [
       "0.8332201242446899"
      ]
     },
     "execution_count": 58,
     "metadata": {},
     "output_type": "execute_result"
    }
   ],
   "source": [
    "%%time\n",
    "# Compute surface Dice score\n",
    "score = compute_surface_dice_score(submit, label)\n",
    "score"
   ]
  },
  {
   "cell_type": "code",
   "execution_count": null,
   "metadata": {},
   "outputs": [],
   "source": []
  }
 ],
 "metadata": {
  "kernelspec": {
   "display_name": "base",
   "language": "python",
   "name": "python3"
  },
  "language_info": {
   "codemirror_mode": {
    "name": "ipython",
    "version": 3
   },
   "file_extension": ".py",
   "mimetype": "text/x-python",
   "name": "python",
   "nbconvert_exporter": "python",
   "pygments_lexer": "ipython3",
   "version": "3.10.12"
  }
 },
 "nbformat": 4,
 "nbformat_minor": 2
}
