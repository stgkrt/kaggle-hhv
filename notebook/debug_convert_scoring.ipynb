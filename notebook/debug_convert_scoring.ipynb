{
 "cells": [
  {
   "cell_type": "code",
   "execution_count": 14,
   "metadata": {},
   "outputs": [],
   "source": [
    "import os\n",
    "\n",
    "import cv2\n",
    "import numpy as np\n",
    "import pandas as pd\n",
    "\n",
    "import torch\n",
    "from torch.utils.data import DataLoader, Dataset\n",
    "\n",
    "import matplotlib.pyplot as plt\n",
    "\n",
    "from tqdm import tqdm_notebook as tqdm\n",
    "\n",
    "import sys\n",
    "sys.path.append(\"/kaggle/src/\")\n",
    "\n",
    "from model.model_module import ModelModule\n",
    "from conf import ExpConfig\n",
    "from score.rle_convert import rle_encode, rle_decode\n",
    "from score.compute_score import compute_surface_dice_score, add_size_columns"
   ]
  },
  {
   "cell_type": "code",
   "execution_count": 15,
   "metadata": {},
   "outputs": [
    {
     "data": {
      "text/plain": [
       "<All keys matched successfully>"
      ]
     },
     "execution_count": 15,
     "metadata": {},
     "output_type": "execute_result"
    }
   ],
   "source": [
    "config = ExpConfig()\n",
    "model = ModelModule(config)\n",
    "# modelの読み込み\n",
    "# model_path = \"/kaggle/working/exp001_making3/last.pth\"\n",
    "model_path = \"/kaggle/working/exp001_validscore/last.pth\"\n",
    "model.load_state_dict(torch.load(model_path))"
   ]
  },
  {
   "cell_type": "code",
   "execution_count": 16,
   "metadata": {},
   "outputs": [],
   "source": [
    "data_name = \"kidney_1_dense\"\n",
    "slice_id = \"0500\"\n",
    "data_id = data_name + \"_\" + slice_id\n",
    "\n",
    "image = cv2.imread(f\"/kaggle/input/blood-vessel-segmentation/train/{data_name}/images/{slice_id}.tif\", cv2.IMREAD_GRAYSCALE)\n",
    "pred, pred_counts = model.overlap_predict(image)"
   ]
  },
  {
   "cell_type": "code",
   "execution_count": 17,
   "metadata": {},
   "outputs": [
    {
     "name": "stdout",
     "output_type": "stream",
     "text": [
      "72716 1 73628 2 74541 1 107335 1 119938 2 120850 2 142766 1 143678 2 148384 3 149296 2 161124 2 162035 3 162947 3 163859 3 164772 1 170081 3 170992 5 171905 4 172817 3 172836 2 173747 4 174658 5 175570 5 176482 5 177394 5 178307 2 195625 3 196536 4 197391 3 197445 7 198303 3 198356 8 199215 3 199254 2 199268 8 200126 4 200166 2 200180 8 201038 3 201092 7 201950 3 202004 7 202863 1 202916 6 203828 6 204740 5 205652 4 206565 2 228416 3 229326 7 230237 8 230447 1 231148 10 231358 3 231403 1 232059 11 232270 4 232314 3 232970 12 233182 4 233226 3 233882 9 234095 2 234793 9 235012 2 235704 10 235923 4 236601 2 236616 9 236836 4 237513 2 237527 10 237749 1 238425 2 238439 9 239338 1 239349 11 240250 2 240259 12 240275 1 241162 3 241170 13 241186 3 242074 3 242082 13 242098 3 242994 13 243010 4 243907 11 243921 5 244820 10 244833 5 245733 10 245745 5 246646 8 246657 5 247558 8 247569 5 248470 8 248481 5 249382 8 249393 5 250294 8 250305 4 251205 9 251217 4 252117 9 252129 3 252142 1 253028 9 253041 2 253053 4 253940 9 253953 1 253964 6 254830 4 254851 10 254864 2 254875 8 255742 5 255763 10 255787 8 256654 6 256675 10 256698 10 257566 7 257586 10 257610 10 258479 7 258498 9 258521 11 259391 9 259410 8 259432 13 260304 9 260322 8 260343 14 261216 10 261234 7 261254 15 262130 9 262146 6 262166 15 263044 8 263059 3 263075 17 263957 7 263971 2 263987 17 264870 6 264899 17 265783 5 265811 17 266723 17 267635 17 268547 17 269360 1 269458 18 270370 18 271282 18 272101 3 272194 18 273014 2 273017 2 273105 19 273930 2 274017 18 274843 2 274929 17 275756 2 275841 16 276668 2 276753 16 277581 1 277665 15 278578 14 279490 13 280402 13 281314 12 282227 10 283139 8 284051 6 284965 1 307702 3 308614 3 309527 3 310436 1 310439 3 311348 2 311352 2 312260 2 313091 1 314003 2 314915 2 315828 1 322586 1 323497 3 324124 3 324409 3 325035 5 325321 3 325947 5 326859 4 327772 2 336270 1 337181 3 338093 3 339006 2 339530 1 340441 3 341353 3 342265 3 343178 2 348628 2 349540 2 349663 3 350453 1 350574 5 351485 6 352397 7 353310 6 354222 6 355135 4 356049 1 356823 2 357121 5 357735 2 358032 7 358647 2 358942 10 359853 11 360764 12 361423 2 361676 11 362336 1 362587 10 363500 7 364412 6 365324 5 366237 2 370622 2 371534 2 372446 2 372454 4 373365 6 374277 6 375188 7 376100 7 377012 7 377924 6 378836 6 379748 5 380661 3 386146 4 387056 8 387967 9 388114 2 388879 9 389025 4 389790 11 389938 3 390702 11 391614 11 392526 12 393438 12 394350 13 395263 13 396175 13 397087 13 397224 3 397999 14 398135 6 398912 13 399046 8 399824 14 399958 8 400736 14 400870 9 401649 13 401781 11 402561 13 402693 11 403473 13 403605 11 403649 2 404231 2 404386 12 404517 11 404561 1 405143 3 405299 11 405429 11 406056 1 406127 5 406211 11 406340 12 407033 13 407124 9 407252 12 407945 14 408036 9 408164 12 408857 15 408879 1 408949 7 409076 11 409781 3 409789 4 409863 4 409988 11 410694 1 410700 6 410900 10 411612 6 411812 10 411977 3 412524 6 412724 9 412889 4 413436 6 413637 7 413782 2 413802 2 414348 5 414550 5 414694 2 415261 4 415463 2 415606 3 416174 3 416518 2 432064 1 432976 1 434670 2 435581 4 436492 5 437404 5 438315 6 439227 6 440140 4 441053 1 444647 1 445559 2 449264 3 450174 6 451086 6 451998 6 452911 4 480120 1 481029 5 481939 6 482846 9 483566 2 483757 9 484478 2 484667 10 485390 2 485578 10 486302 2 486489 11 487214 2 487298 3 487400 11 488126 1 488208 6 488312 11 489038 1 489119 8 489213 3 489223 11 489950 2 490030 10 490125 3 490134 12 490153 1 490862 2 490942 10 491037 4 491046 12 491065 1 491774 3 491854 11 491949 4 491957 13 492687 2 492695 1 492766 11 492861 3 492869 12 493126 1 493678 11 493780 13 494038 1 494590 11 494692 12 495504 9 495519 4 495604 12 496419 4 496429 6 496516 12 497339 8 497427 13 498251 8 498339 12 499163 3 499251 11 500162 12 501074 11 501986 11 502898 10 503810 9 504722 9 505634 9 505762 5 506546 8 506673 7 507428 2 507458 8 507584 9 507746 2 508341 1 508371 6 508495 11 508659 2 509283 6 509407 11 510196 4 510319 11 511230 12 512142 12 513054 12 513966 12 514879 11 515791 10 516376 2 516704 8 517289 1 517617 7 518530 5 519437 2 520349 3 520934 2 521262 4 521846 3 522758 3 523670 2 523997 1 524582 2 524678 1 525493 3 525590 2 526405 3 526502 2 526860 1 527317 3 527414 2 527773 1 528230 1 533792 2 534704 3 535608 3 535616 3 536519 6 536528 3 537379 8 537421 3 537430 8 537440 3 538261 1 538290 9 538332 6 538341 10 538352 2 539201 10 539244 20 540117 6 540157 19 541030 5 541069 19 541943 3 541982 15 542856 1 542895 13 543808 12 544722 9 545635 8 546548 6 547460 6 548372 5 549281 8 550193 8 551106 6 552018 5 552931 2 554696 3 555608 3 556496 1 556509 2 556519 4 557408 2 557422 1 557431 4 557811 2 558320 3 558343 3 558723 3 559232 3 559635 3 560145 3 560547 3 561057 3 561460 2 562934 4 563845 6 564757 6 565669 7 566027 2 566581 7 566939 2 567494 6 567817 2 568407 4 568727 6 569639 6 570551 6 571463 6 572375 6 573288 4 574200 3 576931 3 576935 1 577529 2 577844 6 578441 2 578757 1 578759 2 579299 2 579354 2 580211 2 580266 2 581179 1 582092 1 583004 1 589344 2 590257 1 591169 2 592081 3 592993 2 598004 2 603044 1 603956 2 604868 3 605779 5 606691 6 607604 4 609783 1 610692 6 611602 8 612514 9 613426 9 614339 8 615251 8 615748 4 616164 7 616660 5 617078 4 617573 3 618935 1 619846 3 620758 3 621671 2 629468 2 630380 1 633113 1 644167 5 645077 10 645987 13 646899 15 647810 18 648722 19 649634 20 650545 22 651457 23 652369 24 653281 25 654177 3 654192 27 655089 3 655104 27 656001 3 656016 28 656914 1 656928 28 657840 29 658751 30 659654 1 659663 30 660565 2 660575 30 661476 2 661486 32 661735 2 662398 32 662646 4 663310 32 663557 5 664222 31 664468 6 665134 31 665379 6 666046 29 666289 7 666948 1 666958 27 667200 6 667860 2 667871 25 668112 4 668772 1 668783 11 668804 3 669024 3 669664 2 669696 4 669935 3 670576 1 670624 2 670847 3 671536 3 671759 3 673301 2 674212 4 674225 2 675120 8 676031 8 676079 2 676943 8 676991 2 677855 7 677866 2 678768 6 678777 4 679681 1 679684 1 696021 1 696055 2 696933 2 696968 1 734653 1 735564 3 736476 3 737388 4 738300 4 739213 3 746516 2 747429 3 748342 3 749255 2 749842 2 750168 2 750755 1 751019 2 751022 4 751081 2 751930 2 751935 3 751993 2 752840 3 752848 2 752905 3 753689 1 753750 3 753818 2 754662 2 758968 2 759879 4 760791 4 761703 4 762615 4 763528 3 763720 4 764440 3 764632 5 765543 6 766455 6 767367 7 768279 7 769191 7 770103 7 771015 6 771927 6 772839 6 773751 6 774663 5 775575 4 776488 2 793849 1 794761 2 796546 2 796604 2 797457 6 797513 5 798368 8 798424 6 799280 8 799335 5 800192 9 800248 2 801104 9 802016 9 802929 8 803841 8 804754 6 805668 3 812766 3 813674 9 814582 14 815493 15 816405 15 817317 15 818230 14 819143 13 820062 5 841220 2 842131 3 843042 4 843954 4 844866 4 845779 3 849250 2 850162 3 850321 2 851073 4 851232 6 851985 4 852143 6 852897 5 853055 1 853059 1 853809 5 854721 5 854940 2 855633 5 855852 3 856546 4 856764 5 857458 4 857678 4 858370 5 858591 4 859282 5 859443 2 859504 4 860194 5 860354 2 860417 4 861105 6 861271 2 861330 3 862017 6 862182 4 862243 2 862928 7 863093 6 863840 7 864002 9 864739 1 864752 7 864912 12 865664 7 865823 13 866560 2 866577 6 866734 14 867471 3 867490 5 867646 14 868383 2 868402 5 868557 15 869314 5 869468 15 870226 6 870380 15 871138 6 871292 14 872051 4 872203 15 872963 4 873114 15 873875 4 874026 14 874787 4 874937 14 875698 5 875849 14 876610 5 876761 13 877522 4 877673 12 878434 4 878584 12 879346 4 879496 12 880258 4 880408 11 881171 4 881320 10 882083 4 882231 11 882995 4 883144 9 883907 4 884056 9 884820 3 884967 10 885733 1 885879 9 886791 9 887703 9 888615 8 889527 8 890439 7 891351 7 892263 7 893175 6 894087 5 894997 5 895909 5 896820 6 897732 7 898644 7 899556 7 900468 7 901380 7 902292 7 903205 5 952375 3 953286 5 954162 3 954197 7 955074 4 955109 7 955985 5 956004 3 956021 7 956898 4 956915 5 956933 7 957811 3 957825 8 957846 5 958737 8 958758 5 959648 9 960528 2 960559 10 961439 4 961470 10 962350 5 962381 9 963262 4 963292 7 964173 3 964204 5 965085 3 965115 5 965997 3 966027 4 966909 2 966939 3 967851 2 968762 3 969674 3 970586 2 971497 2 972409 1 976009 1 980610 2 981521 3 982433 2 982535 2 983345 2 983447 2 984359 2 985271 2 986184 1 992544 1 993456 1 1026020 2 1026932 3 1027846 1\n"
     ]
    }
   ],
   "source": [
    "rle = rle_encode((pred > 0.5).astype(np.uint8))\n",
    "print(rle)"
   ]
  },
  {
   "cell_type": "code",
   "execution_count": 18,
   "metadata": {},
   "outputs": [
    {
     "data": {
      "text/plain": [
       "<matplotlib.image.AxesImage at 0x7f1e90cc1030>"
      ]
     },
     "execution_count": 18,
     "metadata": {},
     "output_type": "execute_result"
    },
    {
     "data": {
      "image/png": "[encoded data removed]",
      "text/plain": [
       "<Figure size 640x480 with 1 Axes>"
      ]
     },
     "metadata": {},
     "output_type": "display_data"
    }
   ],
   "source": [
    "decoded_pred = rle_decode(rle, (pred.shape[0], pred.shape[1]))\n",
    "plt.imshow(decoded_pred)"
   ]
  },
  {
   "cell_type": "code",
   "execution_count": 19,
   "metadata": {},
   "outputs": [
    {
     "name": "stderr",
     "output_type": "stream",
     "text": [
      "/tmp/ipykernel_24215/3404337702.py:4: TqdmDeprecationWarning: This function will be removed in tqdm==5.0.0\n",
      "Please use `tqdm.notebook.tqdm` instead of `tqdm.tqdm_notebook`\n",
      "  for slice_id in tqdm(range(500, 600)):\n"
     ]
    },
    {
     "data": {
      "application/vnd.jupyter.widget-view+json": {
       "model_id": "5c798ab1e5214e0ebacff0fd0e6c1cf9",
       "version_major": 2,
       "version_minor": 0
      },
      "text/plain": [
       "  0%|          | 0/100 [00:00<?, ?it/s]"
      ]
     },
     "metadata": {},
     "output_type": "display_data"
    }
   ],
   "source": [
    "data_name = \"kidney_1_dense\"\n",
    "data_id_list = []\n",
    "rle_list = []\n",
    "for slice_id in tqdm(range(500, 600)):\n",
    "    data_id = f\"{data_name}_{slice_id:04d}\"\n",
    "    image = cv2.imread(f\"/kaggle/input/blood-vessel-segmentation/train/{data_name}/images/{slice_id:04d}.tif\", cv2.IMREAD_GRAYSCALE)\n",
    "    pred, pred_counts = model.overlap_predict(image)\n",
    "    rle = rle_encode((pred > 0.5).astype(np.uint8))\n",
    "    rle_list.append(rle)\n",
    "    data_id_list.append(data_id)"
   ]
  },
  {
   "cell_type": "code",
   "execution_count": 20,
   "metadata": {},
   "outputs": [
    {
     "data": {
      "text/html": [
       "<div>\n",
       "<style scoped>\n",
       "    .dataframe tbody tr th:only-of-type {\n",
       "        vertical-align: middle;\n",
       "    }\n",
       "\n",
       "    .dataframe tbody tr th {\n",
       "        vertical-align: top;\n",
       "    }\n",
       "\n",
       "    .dataframe thead th {\n",
       "        text-align: right;\n",
       "    }\n",
       "</style>\n",
       "<table border=\"1\" class=\"dataframe\">\n",
       "  <thead>\n",
       "    <tr style=\"text-align: right;\">\n",
       "      <th></th>\n",
       "      <th>id</th>\n",
       "      <th>rle</th>\n",
       "    </tr>\n",
       "  </thead>\n",
       "  <tbody>\n",
       "    <tr>\n",
       "      <th>0</th>\n",
       "      <td>kidney_1_dense_0500</td>\n",
       "      <td>119938 2 120850 2 121763 1 148384 3 149296 2 1...</td>\n",
       "    </tr>\n",
       "    <tr>\n",
       "      <th>1</th>\n",
       "      <td>kidney_1_dense_0501</td>\n",
       "      <td>47129 1 120850 1 121761 3 122673 3 123586 2 14...</td>\n",
       "    </tr>\n",
       "    <tr>\n",
       "      <th>2</th>\n",
       "      <td>kidney_1_dense_0502</td>\n",
       "      <td>75454 2 76367 1 91685 1 92596 2 93508 3 94420 ...</td>\n",
       "    </tr>\n",
       "    <tr>\n",
       "      <th>3</th>\n",
       "      <td>kidney_1_dense_0503</td>\n",
       "      <td>73628 2 74541 1 75454 1 124498 1 125409 3 1263...</td>\n",
       "    </tr>\n",
       "    <tr>\n",
       "      <th>4</th>\n",
       "      <td>kidney_1_dense_0504</td>\n",
       "      <td>86214 1 123590 2 124502 2 125413 3 126325 2 12...</td>\n",
       "    </tr>\n",
       "    <tr>\n",
       "      <th>...</th>\n",
       "      <td>...</td>\n",
       "      <td>...</td>\n",
       "    </tr>\n",
       "    <tr>\n",
       "      <th>95</th>\n",
       "      <td>kidney_1_dense_0595</td>\n",
       "      <td>131047 1 131959 2 132871 2 147254 1 148166 1 1...</td>\n",
       "    </tr>\n",
       "    <tr>\n",
       "      <th>96</th>\n",
       "      <td>kidney_1_dense_0596</td>\n",
       "      <td>132897 1 148458 1 190132 1 191043 3 191956 2 1...</td>\n",
       "    </tr>\n",
       "    <tr>\n",
       "      <th>97</th>\n",
       "      <td>kidney_1_dense_0597</td>\n",
       "      <td>191957 1 192868 2 193780 3 194692 3 195605 2 1...</td>\n",
       "    </tr>\n",
       "    <tr>\n",
       "      <th>98</th>\n",
       "      <td>kidney_1_dense_0598</td>\n",
       "      <td>91806 3 92718 3 93631 2 133781 1 134693 1 1627...</td>\n",
       "    </tr>\n",
       "    <tr>\n",
       "      <th>99</th>\n",
       "      <td>kidney_1_dense_0599</td>\n",
       "      <td>89071 1 89982 2 90894 2 91806 2 92717 3 93629 ...</td>\n",
       "    </tr>\n",
       "  </tbody>\n",
       "</table>\n",
       "<p>100 rows × 2 columns</p>\n",
       "</div>"
      ],
      "text/plain": [
       "                     id                                                rle\n",
       "0   kidney_1_dense_0500  119938 2 120850 2 121763 1 148384 3 149296 2 1...\n",
       "1   kidney_1_dense_0501  47129 1 120850 1 121761 3 122673 3 123586 2 14...\n",
       "2   kidney_1_dense_0502  75454 2 76367 1 91685 1 92596 2 93508 3 94420 ...\n",
       "3   kidney_1_dense_0503  73628 2 74541 1 75454 1 124498 1 125409 3 1263...\n",
       "4   kidney_1_dense_0504  86214 1 123590 2 124502 2 125413 3 126325 2 12...\n",
       "..                  ...                                                ...\n",
       "95  kidney_1_dense_0595  131047 1 131959 2 132871 2 147254 1 148166 1 1...\n",
       "96  kidney_1_dense_0596  132897 1 148458 1 190132 1 191043 3 191956 2 1...\n",
       "97  kidney_1_dense_0597  191957 1 192868 2 193780 3 194692 3 195605 2 1...\n",
       "98  kidney_1_dense_0598  91806 3 92718 3 93631 2 133781 1 134693 1 1627...\n",
       "99  kidney_1_dense_0599  89071 1 89982 2 90894 2 91806 2 92717 3 93629 ...\n",
       "\n",
       "[100 rows x 2 columns]"
      ]
     },
     "execution_count": 20,
     "metadata": {},
     "output_type": "execute_result"
    }
   ],
   "source": [
    "submit = pd.DataFrame({\n",
    "    \"id\": data_id_list,\n",
    "    \"rle\": rle_list\n",
    "})\n",
    "\n",
    "# submit = pd.read_csv(\"/kaggle/input/submission_sample.csv\")\n",
    "submit"
   ]
  },
  {
   "cell_type": "code",
   "execution_count": 21,
   "metadata": {},
   "outputs": [
    {
     "data": {
      "text/html": [
       "<div>\n",
       "<style scoped>\n",
       "    .dataframe tbody tr th:only-of-type {\n",
       "        vertical-align: middle;\n",
       "    }\n",
       "\n",
       "    .dataframe tbody tr th {\n",
       "        vertical-align: top;\n",
       "    }\n",
       "\n",
       "    .dataframe thead th {\n",
       "        text-align: right;\n",
       "    }\n",
       "</style>\n",
       "<table border=\"1\" class=\"dataframe\">\n",
       "  <thead>\n",
       "    <tr style=\"text-align: right;\">\n",
       "      <th></th>\n",
       "      <th>id</th>\n",
       "      <th>rle</th>\n",
       "      <th>width</th>\n",
       "      <th>height</th>\n",
       "      <th>image_id</th>\n",
       "      <th>slice_id</th>\n",
       "    </tr>\n",
       "  </thead>\n",
       "  <tbody>\n",
       "    <tr>\n",
       "      <th>0</th>\n",
       "      <td>kidney_1_dense_0500</td>\n",
       "      <td>80795 1 81707 1 119026 2 119938 2 120850 2 121...</td>\n",
       "      <td>912</td>\n",
       "      <td>1303</td>\n",
       "      <td>kidney_1_dense</td>\n",
       "      <td>0500</td>\n",
       "    </tr>\n",
       "    <tr>\n",
       "      <th>1</th>\n",
       "      <td>kidney_1_dense_0501</td>\n",
       "      <td>79883 1 80795 1 120850 1 121762 2 122674 2 123...</td>\n",
       "      <td>912</td>\n",
       "      <td>1303</td>\n",
       "      <td>kidney_1_dense</td>\n",
       "      <td>0501</td>\n",
       "    </tr>\n",
       "    <tr>\n",
       "      <th>2</th>\n",
       "      <td>kidney_1_dense_0502</td>\n",
       "      <td>79883 1 80795 1 90773 1 91685 1 92597 1 93508 ...</td>\n",
       "      <td>912</td>\n",
       "      <td>1303</td>\n",
       "      <td>kidney_1_dense</td>\n",
       "      <td>0502</td>\n",
       "    </tr>\n",
       "    <tr>\n",
       "      <th>3</th>\n",
       "      <td>kidney_1_dense_0503</td>\n",
       "      <td>78970 2 79882 2 80795 1 88949 1 89861 1 90773 ...</td>\n",
       "      <td>912</td>\n",
       "      <td>1303</td>\n",
       "      <td>kidney_1_dense</td>\n",
       "      <td>0503</td>\n",
       "    </tr>\n",
       "    <tr>\n",
       "      <th>4</th>\n",
       "      <td>kidney_1_dense_0504</td>\n",
       "      <td>72581 3 73492 2 73495 2 74408 2 78059 1 78970 ...</td>\n",
       "      <td>912</td>\n",
       "      <td>1303</td>\n",
       "      <td>kidney_1_dense</td>\n",
       "      <td>0504</td>\n",
       "    </tr>\n",
       "    <tr>\n",
       "      <th>...</th>\n",
       "      <td>...</td>\n",
       "      <td>...</td>\n",
       "      <td>...</td>\n",
       "      <td>...</td>\n",
       "      <td>...</td>\n",
       "      <td>...</td>\n",
       "    </tr>\n",
       "    <tr>\n",
       "      <th>95</th>\n",
       "      <td>kidney_1_dense_0595</td>\n",
       "      <td>171944 1 172856 1 181921 1 182833 1 183745 1 1...</td>\n",
       "      <td>912</td>\n",
       "      <td>1303</td>\n",
       "      <td>kidney_1_dense</td>\n",
       "      <td>0595</td>\n",
       "    </tr>\n",
       "    <tr>\n",
       "      <th>96</th>\n",
       "      <td>kidney_1_dense_0596</td>\n",
       "      <td>89985 1 90897 1 171944 1 172856 1 180096 1 181...</td>\n",
       "      <td>912</td>\n",
       "      <td>1303</td>\n",
       "      <td>kidney_1_dense</td>\n",
       "      <td>0596</td>\n",
       "    </tr>\n",
       "    <tr>\n",
       "      <th>97</th>\n",
       "      <td>kidney_1_dense_0597</td>\n",
       "      <td>90897 1 91808 2 172797 1 172856 1 173709 1 174...</td>\n",
       "      <td>912</td>\n",
       "      <td>1303</td>\n",
       "      <td>kidney_1_dense</td>\n",
       "      <td>0597</td>\n",
       "    </tr>\n",
       "    <tr>\n",
       "      <th>98</th>\n",
       "      <td>kidney_1_dense_0598</td>\n",
       "      <td>91807 2 92719 2 93631 1 160939 1 161851 1 1627...</td>\n",
       "      <td>912</td>\n",
       "      <td>1303</td>\n",
       "      <td>kidney_1_dense</td>\n",
       "      <td>0598</td>\n",
       "    </tr>\n",
       "    <tr>\n",
       "      <th>99</th>\n",
       "      <td>kidney_1_dense_0599</td>\n",
       "      <td>89071 1 89983 1 90894 2 91806 2 92718 2 93629 ...</td>\n",
       "      <td>912</td>\n",
       "      <td>1303</td>\n",
       "      <td>kidney_1_dense</td>\n",
       "      <td>0599</td>\n",
       "    </tr>\n",
       "  </tbody>\n",
       "</table>\n",
       "<p>100 rows × 6 columns</p>\n",
       "</div>"
      ],
      "text/plain": [
       "                     id                                                rle  \\\n",
       "0   kidney_1_dense_0500  80795 1 81707 1 119026 2 119938 2 120850 2 121...   \n",
       "1   kidney_1_dense_0501  79883 1 80795 1 120850 1 121762 2 122674 2 123...   \n",
       "2   kidney_1_dense_0502  79883 1 80795 1 90773 1 91685 1 92597 1 93508 ...   \n",
       "3   kidney_1_dense_0503  78970 2 79882 2 80795 1 88949 1 89861 1 90773 ...   \n",
       "4   kidney_1_dense_0504  72581 3 73492 2 73495 2 74408 2 78059 1 78970 ...   \n",
       "..                  ...                                                ...   \n",
       "95  kidney_1_dense_0595  171944 1 172856 1 181921 1 182833 1 183745 1 1...   \n",
       "96  kidney_1_dense_0596  89985 1 90897 1 171944 1 172856 1 180096 1 181...   \n",
       "97  kidney_1_dense_0597  90897 1 91808 2 172797 1 172856 1 173709 1 174...   \n",
       "98  kidney_1_dense_0598  91807 2 92719 2 93631 1 160939 1 161851 1 1627...   \n",
       "99  kidney_1_dense_0599  89071 1 89983 1 90894 2 91806 2 92718 2 93629 ...   \n",
       "\n",
       "    width  height        image_id slice_id  \n",
       "0     912    1303  kidney_1_dense     0500  \n",
       "1     912    1303  kidney_1_dense     0501  \n",
       "2     912    1303  kidney_1_dense     0502  \n",
       "3     912    1303  kidney_1_dense     0503  \n",
       "4     912    1303  kidney_1_dense     0504  \n",
       "..    ...     ...             ...      ...  \n",
       "95    912    1303  kidney_1_dense     0595  \n",
       "96    912    1303  kidney_1_dense     0596  \n",
       "97    912    1303  kidney_1_dense     0597  \n",
       "98    912    1303  kidney_1_dense     0598  \n",
       "99    912    1303  kidney_1_dense     0599  \n",
       "\n",
       "[100 rows x 6 columns]"
      ]
     },
     "execution_count": 21,
     "metadata": {},
     "output_type": "execute_result"
    }
   ],
   "source": [
    "label = pd.read_csv(\"/kaggle/input/blood-vessel-segmentation/train_rles.csv\")\n",
    "label = label[label[\"id\"].str.startswith(data_name)]\n",
    "label = label[label[\"id\"].isin(data_id_list)].reset_index(drop=True)\n",
    "add_size_columns(label)\n",
    "label"
   ]
  },
  {
   "cell_type": "code",
   "execution_count": 22,
   "metadata": {},
   "outputs": [
    {
     "data": {
      "text/plain": [
       "0     kidney_1_dense_0500\n",
       "1     kidney_1_dense_0501\n",
       "2     kidney_1_dense_0502\n",
       "3     kidney_1_dense_0503\n",
       "4     kidney_1_dense_0504\n",
       "             ...         \n",
       "95    kidney_1_dense_0595\n",
       "96    kidney_1_dense_0596\n",
       "97    kidney_1_dense_0597\n",
       "98    kidney_1_dense_0598\n",
       "99    kidney_1_dense_0599\n",
       "Name: id, Length: 100, dtype: object"
      ]
     },
     "execution_count": 22,
     "metadata": {},
     "output_type": "execute_result"
    }
   ],
   "source": [
    "submit[\"id\"]"
   ]
  },
  {
   "cell_type": "code",
   "execution_count": 23,
   "metadata": {},
   "outputs": [
    {
     "data": {
      "text/plain": [
       "0     kidney_1_dense_0500\n",
       "1     kidney_1_dense_0501\n",
       "2     kidney_1_dense_0502\n",
       "3     kidney_1_dense_0503\n",
       "4     kidney_1_dense_0504\n",
       "             ...         \n",
       "95    kidney_1_dense_0595\n",
       "96    kidney_1_dense_0596\n",
       "97    kidney_1_dense_0597\n",
       "98    kidney_1_dense_0598\n",
       "99    kidney_1_dense_0599\n",
       "Name: id, Length: 100, dtype: object"
      ]
     },
     "execution_count": 23,
     "metadata": {},
     "output_type": "execute_result"
    }
   ],
   "source": [
    "label[\"id\"]"
   ]
  },
  {
   "cell_type": "code",
   "execution_count": 24,
   "metadata": {},
   "outputs": [
    {
     "data": {
      "text/plain": [
       "0     True\n",
       "1     True\n",
       "2     True\n",
       "3     True\n",
       "4     True\n",
       "      ... \n",
       "95    True\n",
       "96    True\n",
       "97    True\n",
       "98    True\n",
       "99    True\n",
       "Name: id, Length: 100, dtype: bool"
      ]
     },
     "execution_count": 24,
     "metadata": {},
     "output_type": "execute_result"
    }
   ],
   "source": [
    "submit[\"id\"]==label[\"id\"]"
   ]
  },
  {
   "cell_type": "code",
   "execution_count": 25,
   "metadata": {},
   "outputs": [
    {
     "data": {
      "text/plain": [
       "True"
      ]
     },
     "execution_count": 25,
     "metadata": {},
     "output_type": "execute_result"
    }
   ],
   "source": [
    "(submit[\"id\"] == label[\"id\"]).all()"
   ]
  },
  {
   "cell_type": "code",
   "execution_count": 26,
   "metadata": {},
   "outputs": [
    {
     "name": "stdout",
     "output_type": "stream",
     "text": [
      "CPU times: user 212 ms, sys: 35.3 ms, total: 247 ms\n",
      "Wall time: 242 ms\n"
     ]
    },
    {
     "data": {
      "text/plain": [
       "0.8320055603981018"
      ]
     },
     "execution_count": 26,
     "metadata": {},
     "output_type": "execute_result"
    }
   ],
   "source": [
    "%%time\n",
    "# Compute surface Dice score\n",
    "score = compute_surface_dice_score(submit, label)\n",
    "score"
   ]
  },
  {
   "cell_type": "code",
   "execution_count": null,
   "metadata": {},
   "outputs": [],
   "source": []
  }
 ],
 "metadata": {
  "kernelspec": {
   "display_name": "base",
   "language": "python",
   "name": "python3"
  },
  "language_info": {
   "codemirror_mode": {
    "name": "ipython",
    "version": 3
   },
   "file_extension": ".py",
   "mimetype": "text/x-python",
   "name": "python",
   "nbconvert_exporter": "python",
   "pygments_lexer": "ipython3",
   "version": "3.10.12"
  }
 },
 "nbformat": 4,
 "nbformat_minor": 2
}
