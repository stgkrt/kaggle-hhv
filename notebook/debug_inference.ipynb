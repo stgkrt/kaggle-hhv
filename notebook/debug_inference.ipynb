{
 "cells": [
  {
   "cell_type": "code",
   "execution_count": 11,
   "metadata": {},
   "outputs": [],
   "source": [
    "import os\n",
    "import sys\n",
    "import yaml # type: ignore\n",
    "from glob import glob\n",
    "\n",
    "import torch\n",
    "\n",
    "import sys\n",
    "sys.path.append(\"/kaggle/src/\")\n",
    "\n",
    "from conf import ExpConfig\n",
    "from model.model_module import ModelModule\n",
    "from data.make_maxmean_df import save_centerslice_maxmean_df\n",
    "\n",
    "from score.compute_score import compute_surface_dice_score, add_size_columns"
   ]
  },
  {
   "cell_type": "code",
   "execution_count": 12,
   "metadata": {},
   "outputs": [
    {
     "name": "stdout",
     "output_type": "stream",
     "text": [
      "['kidney_2']\n"
     ]
    }
   ],
   "source": [
    "# TEST_DATA_DIR = \"/kaggle/input/blood-vessel-segmentation/test\"\n",
    "# TEST_DATA_DIR = \"/kaggle/input/blood-vessel-segmentation/test_debug\"\n",
    "\n",
    "# test_imgdir_list = glob(os.path.join(TEST_DATA_DIR, \"*\", \"images\"))\n",
    "# test_datapath_list = [os.path.dirname(data_dir) for data_dir in test_imgdir_list]\n",
    "# TEST_DATANAME_LIST = [os.path.split(data_dir)[-1] for data_dir in test_datapath_list]\n",
    "\n",
    "\n",
    "TEST_DATA_DIR = \"/kaggle/input/blood-vessel-segmentation/train\"\n",
    "TEST_DATANAME_LIST = [\"kidney_2\"]\n",
    "\n",
    "print(TEST_DATANAME_LIST)"
   ]
  },
  {
   "cell_type": "code",
   "execution_count": 13,
   "metadata": {},
   "outputs": [
    {
     "name": "stdout",
     "output_type": "stream",
     "text": [
      "ExpConfig(debug=False, phase='train', exp_name='exp006_1024', exp_category='baseline', seed=42, model_name='SegModel', encoder_name='seresnext50_32x4d', pretrained=True, in_channels=1, out_channels=1, use_batchnorm=True, dropout=0.2, encoder_channels=[64, 128, 256, 512, 512], decoder_channels=[512, 256, 128, 64, 64], input_dir='/kaggle/input', competition_name='blood-vessel-segmentation', input_data_dir='/kaggle/input/blood-vessel-segmentation', processed_data_dir='/kaggle/working/_processed', output_dir='/kaggle/working', save_dir='/kaggle/working/exp006_1024', img_height=1024, img_width=1024, stride_height=1024, stride_width=1024, patch_height=1536, patch_width=1536, slice_num=1, batch_size=2, num_workers=2, train_df='/kaggle/working/train_1024_1024.csv', valid_df='/kaggle/working/valid_1024_1024.csv', train_data_name=['kidney_1_dense'], valid_data_name=['kidney_2'], minmax_df_path='/kaggle/working/centerslice_maxmean.csv', epochs=10, T_max=10, lr=0.0001, eta_min=1e-06, loss_type='dice_grad', monitor='val_loss', monitor_mode='min', check_val_every_n_epoch=1, overlap_rate=0.2, threshold=0.5, object_min_size=3)\n"
     ]
    }
   ],
   "source": [
    "exps_dir = \"/kaggle/working/weights\"\n",
    "# exp_name = \"exp003_Gradloss\"\n",
    "# exp_name = \"exp002_seresnext50_32x4d_Gradloss05\"\n",
    "exp_name = \"exp006_1024\"\n",
    "model_path = os.path.join(exps_dir, exp_name, \"best.pth\")\n",
    "config_path = os.path.join(exps_dir, exp_name, \"config.yaml\")\n",
    "\n",
    "config_dict = yaml.load(open(config_path, \"r\"), Loader=yaml.SafeLoader)\n",
    "config = ExpConfig(**config_dict)\n",
    "\n",
    "config.overlap_rate = 0.2\n",
    "\n",
    "print(config)"
   ]
  },
  {
   "cell_type": "code",
   "execution_count": 14,
   "metadata": {},
   "outputs": [],
   "source": [
    "# df = save_centerslice_maxmean_df(data_dir=TEST_DATA_DIR,\n",
    "#                                  save_dir=\"/kaggle/working\",\n",
    "#                                  use_data_ratio = 0.1) \n",
    "# display(df)"
   ]
  },
  {
   "cell_type": "code",
   "execution_count": 15,
   "metadata": {},
   "outputs": [
    {
     "name": "stdout",
     "output_type": "stream",
     "text": [
      "/kaggle/working/weights/exp006_1024/best.pth\n",
      "model loaded\n"
     ]
    }
   ],
   "source": [
    "model = ModelModule(config, phase=\"test\")\n",
    "# modelの読み込み\n",
    "print(model_path)\n",
    "model.load_state_dict(torch.load(model_path))\n",
    "model.to(\"cuda\")\n",
    "print(\"model loaded\")\n"
   ]
  },
  {
   "cell_type": "code",
   "execution_count": 16,
   "metadata": {},
   "outputs": [
    {
     "name": "stdout",
     "output_type": "stream",
     "text": [
      "\n",
      " predicting... => kidney_2, slice num: 2217\n",
      "2200/2217, 26.52 [min]"
     ]
    }
   ],
   "source": [
    "submit = model.inference(TEST_DATA_DIR, TEST_DATANAME_LIST)"
   ]
  },
  {
   "cell_type": "code",
   "execution_count": 17,
   "metadata": {},
   "outputs": [
    {
     "data": {
      "text/html": [
       "<div>\n",
       "<style scoped>\n",
       "    .dataframe tbody tr th:only-of-type {\n",
       "        vertical-align: middle;\n",
       "    }\n",
       "\n",
       "    .dataframe tbody tr th {\n",
       "        vertical-align: top;\n",
       "    }\n",
       "\n",
       "    .dataframe thead th {\n",
       "        text-align: right;\n",
       "    }\n",
       "</style>\n",
       "<table border=\"1\" class=\"dataframe\">\n",
       "  <thead>\n",
       "    <tr style=\"text-align: right;\">\n",
       "      <th></th>\n",
       "      <th>id</th>\n",
       "      <th>rle</th>\n",
       "    </tr>\n",
       "  </thead>\n",
       "  <tbody>\n",
       "    <tr>\n",
       "      <th>0</th>\n",
       "      <td>kidney_2_0000</td>\n",
       "      <td>1 0</td>\n",
       "    </tr>\n",
       "    <tr>\n",
       "      <th>1</th>\n",
       "      <td>kidney_2_0001</td>\n",
       "      <td>1 0</td>\n",
       "    </tr>\n",
       "    <tr>\n",
       "      <th>2</th>\n",
       "      <td>kidney_2_0002</td>\n",
       "      <td>1 0</td>\n",
       "    </tr>\n",
       "    <tr>\n",
       "      <th>3</th>\n",
       "      <td>kidney_2_0003</td>\n",
       "      <td>1 0</td>\n",
       "    </tr>\n",
       "    <tr>\n",
       "      <th>4</th>\n",
       "      <td>kidney_2_0004</td>\n",
       "      <td>1 0</td>\n",
       "    </tr>\n",
       "    <tr>\n",
       "      <th>...</th>\n",
       "      <td>...</td>\n",
       "      <td>...</td>\n",
       "    </tr>\n",
       "    <tr>\n",
       "      <th>2212</th>\n",
       "      <td>kidney_2_2212</td>\n",
       "      <td>1 0</td>\n",
       "    </tr>\n",
       "    <tr>\n",
       "      <th>2213</th>\n",
       "      <td>kidney_2_2213</td>\n",
       "      <td>1 0</td>\n",
       "    </tr>\n",
       "    <tr>\n",
       "      <th>2214</th>\n",
       "      <td>kidney_2_2214</td>\n",
       "      <td>1 0</td>\n",
       "    </tr>\n",
       "    <tr>\n",
       "      <th>2215</th>\n",
       "      <td>kidney_2_2215</td>\n",
       "      <td>1 0</td>\n",
       "    </tr>\n",
       "    <tr>\n",
       "      <th>2216</th>\n",
       "      <td>kidney_2_2216</td>\n",
       "      <td>1 0</td>\n",
       "    </tr>\n",
       "  </tbody>\n",
       "</table>\n",
       "<p>2217 rows × 2 columns</p>\n",
       "</div>"
      ],
      "text/plain": [
       "                 id  rle\n",
       "0     kidney_2_0000  1 0\n",
       "1     kidney_2_0001  1 0\n",
       "2     kidney_2_0002  1 0\n",
       "3     kidney_2_0003  1 0\n",
       "4     kidney_2_0004  1 0\n",
       "...             ...  ...\n",
       "2212  kidney_2_2212  1 0\n",
       "2213  kidney_2_2213  1 0\n",
       "2214  kidney_2_2214  1 0\n",
       "2215  kidney_2_2215  1 0\n",
       "2216  kidney_2_2216  1 0\n",
       "\n",
       "[2217 rows x 2 columns]"
      ]
     },
     "execution_count": 17,
     "metadata": {},
     "output_type": "execute_result"
    }
   ],
   "source": [
    "submit"
   ]
  },
  {
   "cell_type": "code",
   "execution_count": 18,
   "metadata": {},
   "outputs": [],
   "source": [
    "import pandas as pd\n",
    "\n",
    "data_id_list = submit[\"id\"].values.tolist()\n",
    "\n",
    "label = pd.read_csv(\"/kaggle/input/blood-vessel-segmentation/train_rles.csv\")\n",
    "label = label[label[\"id\"].isin(data_id_list)].reset_index(drop=True)\n",
    "add_size_columns(label)"
   ]
  },
  {
   "cell_type": "code",
   "execution_count": 19,
   "metadata": {},
   "outputs": [
    {
     "data": {
      "text/html": [
       "<div>\n",
       "<style scoped>\n",
       "    .dataframe tbody tr th:only-of-type {\n",
       "        vertical-align: middle;\n",
       "    }\n",
       "\n",
       "    .dataframe tbody tr th {\n",
       "        vertical-align: top;\n",
       "    }\n",
       "\n",
       "    .dataframe thead th {\n",
       "        text-align: right;\n",
       "    }\n",
       "</style>\n",
       "<table border=\"1\" class=\"dataframe\">\n",
       "  <thead>\n",
       "    <tr style=\"text-align: right;\">\n",
       "      <th></th>\n",
       "      <th>id</th>\n",
       "      <th>rle</th>\n",
       "      <th>width</th>\n",
       "      <th>height</th>\n",
       "      <th>image_id</th>\n",
       "      <th>slice_id</th>\n",
       "    </tr>\n",
       "  </thead>\n",
       "  <tbody>\n",
       "    <tr>\n",
       "      <th>0</th>\n",
       "      <td>kidney_2_0000</td>\n",
       "      <td>1 0</td>\n",
       "      <td>1511</td>\n",
       "      <td>1041</td>\n",
       "      <td>kidney_2</td>\n",
       "      <td>0000</td>\n",
       "    </tr>\n",
       "    <tr>\n",
       "      <th>1</th>\n",
       "      <td>kidney_2_0001</td>\n",
       "      <td>1 0</td>\n",
       "      <td>1511</td>\n",
       "      <td>1041</td>\n",
       "      <td>kidney_2</td>\n",
       "      <td>0001</td>\n",
       "    </tr>\n",
       "    <tr>\n",
       "      <th>2</th>\n",
       "      <td>kidney_2_0002</td>\n",
       "      <td>1 0</td>\n",
       "      <td>1511</td>\n",
       "      <td>1041</td>\n",
       "      <td>kidney_2</td>\n",
       "      <td>0002</td>\n",
       "    </tr>\n",
       "    <tr>\n",
       "      <th>3</th>\n",
       "      <td>kidney_2_0003</td>\n",
       "      <td>1 0</td>\n",
       "      <td>1511</td>\n",
       "      <td>1041</td>\n",
       "      <td>kidney_2</td>\n",
       "      <td>0003</td>\n",
       "    </tr>\n",
       "    <tr>\n",
       "      <th>4</th>\n",
       "      <td>kidney_2_0004</td>\n",
       "      <td>1 0</td>\n",
       "      <td>1511</td>\n",
       "      <td>1041</td>\n",
       "      <td>kidney_2</td>\n",
       "      <td>0004</td>\n",
       "    </tr>\n",
       "    <tr>\n",
       "      <th>...</th>\n",
       "      <td>...</td>\n",
       "      <td>...</td>\n",
       "      <td>...</td>\n",
       "      <td>...</td>\n",
       "      <td>...</td>\n",
       "      <td>...</td>\n",
       "    </tr>\n",
       "    <tr>\n",
       "      <th>2212</th>\n",
       "      <td>kidney_2_2212</td>\n",
       "      <td>1 0</td>\n",
       "      <td>1511</td>\n",
       "      <td>1041</td>\n",
       "      <td>kidney_2</td>\n",
       "      <td>2212</td>\n",
       "    </tr>\n",
       "    <tr>\n",
       "      <th>2213</th>\n",
       "      <td>kidney_2_2213</td>\n",
       "      <td>1 0</td>\n",
       "      <td>1511</td>\n",
       "      <td>1041</td>\n",
       "      <td>kidney_2</td>\n",
       "      <td>2213</td>\n",
       "    </tr>\n",
       "    <tr>\n",
       "      <th>2214</th>\n",
       "      <td>kidney_2_2214</td>\n",
       "      <td>1 0</td>\n",
       "      <td>1511</td>\n",
       "      <td>1041</td>\n",
       "      <td>kidney_2</td>\n",
       "      <td>2214</td>\n",
       "    </tr>\n",
       "    <tr>\n",
       "      <th>2215</th>\n",
       "      <td>kidney_2_2215</td>\n",
       "      <td>1 0</td>\n",
       "      <td>1511</td>\n",
       "      <td>1041</td>\n",
       "      <td>kidney_2</td>\n",
       "      <td>2215</td>\n",
       "    </tr>\n",
       "    <tr>\n",
       "      <th>2216</th>\n",
       "      <td>kidney_2_2216</td>\n",
       "      <td>1 0</td>\n",
       "      <td>1511</td>\n",
       "      <td>1041</td>\n",
       "      <td>kidney_2</td>\n",
       "      <td>2216</td>\n",
       "    </tr>\n",
       "  </tbody>\n",
       "</table>\n",
       "<p>2217 rows × 6 columns</p>\n",
       "</div>"
      ],
      "text/plain": [
       "                 id  rle  width  height  image_id slice_id\n",
       "0     kidney_2_0000  1 0   1511    1041  kidney_2     0000\n",
       "1     kidney_2_0001  1 0   1511    1041  kidney_2     0001\n",
       "2     kidney_2_0002  1 0   1511    1041  kidney_2     0002\n",
       "3     kidney_2_0003  1 0   1511    1041  kidney_2     0003\n",
       "4     kidney_2_0004  1 0   1511    1041  kidney_2     0004\n",
       "...             ...  ...    ...     ...       ...      ...\n",
       "2212  kidney_2_2212  1 0   1511    1041  kidney_2     2212\n",
       "2213  kidney_2_2213  1 0   1511    1041  kidney_2     2213\n",
       "2214  kidney_2_2214  1 0   1511    1041  kidney_2     2214\n",
       "2215  kidney_2_2215  1 0   1511    1041  kidney_2     2215\n",
       "2216  kidney_2_2216  1 0   1511    1041  kidney_2     2216\n",
       "\n",
       "[2217 rows x 6 columns]"
      ]
     },
     "execution_count": 19,
     "metadata": {},
     "output_type": "execute_result"
    }
   ],
   "source": [
    "label"
   ]
  },
  {
   "cell_type": "code",
   "execution_count": 20,
   "metadata": {},
   "outputs": [
    {
     "name": "stdout",
     "output_type": "stream",
     "text": [
      "CPU times: user 4.58 s, sys: 4.01 ms, total: 4.59 s\n",
      "Wall time: 4.59 s\n"
     ]
    },
    {
     "data": {
      "text/plain": [
       "2.680524266907014e-05"
      ]
     },
     "execution_count": 20,
     "metadata": {},
     "output_type": "execute_result"
    }
   ],
   "source": [
    "%%time\n",
    "# Compute surface Dice score\n",
    "score = compute_surface_dice_score(submit, label)\n",
    "score"
   ]
  },
  {
   "cell_type": "code",
   "execution_count": null,
   "metadata": {},
   "outputs": [],
   "source": []
  }
 ],
 "metadata": {
  "kernelspec": {
   "display_name": "base",
   "language": "python",
   "name": "python3"
  },
  "language_info": {
   "codemirror_mode": {
    "name": "ipython",
    "version": 3
   },
   "file_extension": ".py",
   "mimetype": "text/x-python",
   "name": "python",
   "nbconvert_exporter": "python",
   "pygments_lexer": "ipython3",
   "version": "3.10.12"
  }
 },
 "nbformat": 4,
 "nbformat_minor": 2
}
